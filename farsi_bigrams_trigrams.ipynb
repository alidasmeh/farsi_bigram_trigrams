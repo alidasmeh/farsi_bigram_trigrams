{
 "cells": [
  {
   "cell_type": "code",
   "execution_count": 7,
   "metadata": {
    "colab": {
     "base_uri": "https://localhost:8080/"
    },
    "id": "y6wLzsWB8obV",
    "outputId": "f5f463e1-b3ea-49cd-a007-7d76bf5b0a47",
    "tags": []
   },
   "outputs": [
    {
     "data": {
      "text/plain": [
       "1263752"
      ]
     },
     "execution_count": 7,
     "metadata": {},
     "output_type": "execute_result"
    }
   ],
   "source": [
    "farsi_text_file = open('farsi_dictionary.txt')\n",
    "farsi_text = farsi_text_file.read()\n",
    "farsi_text_file.close()\n",
    "len(farsi_text)"
   ]
  },
  {
   "cell_type": "markdown",
   "metadata": {
    "id": "RHO41uUEGWCl"
   },
   "source": [
    "# BIGRAMS"
   ]
  },
  {
   "cell_type": "code",
   "execution_count": 8,
   "metadata": {
    "id": "i89FXMi5-AIv",
    "tags": []
   },
   "outputs": [],
   "source": [
    "#bigrams\n",
    "\n",
    "BIGRAMS = []\n",
    "BIGRAMS_REPEATS = []\n",
    "\n",
    "for index, letter in enumerate(farsi_text):\n",
    "  if index < len(farsi_text)-1:\n",
    "    current_bigram = letter+farsi_text[index+1]\n",
    "    if all(letter not in current_bigram for letter in [' ', '،', ':', '.']):\n",
    "      if current_bigram in BIGRAMS:\n",
    "        bigrams_index = BIGRAMS.index(current_bigram)\n",
    "        BIGRAMS_REPEATS[bigrams_index] = BIGRAMS_REPEATS[bigrams_index]+1\n",
    "\n",
    "      else:\n",
    "        BIGRAMS.append(current_bigram)\n",
    "        BIGRAMS_REPEATS.append(1)\n",
    "\n",
    "\n",
    "bigrams_list = dict(zip(BIGRAMS, BIGRAMS_REPEATS))\n",
    "bigrams_list_sorted = dict(sorted(bigrams_list.items(), reverse=True, key=lambda item: item[1]))"
   ]
  },
  {
   "cell_type": "code",
   "execution_count": 6,
   "metadata": {
    "colab": {
     "base_uri": "https://localhost:8080/",
     "height": 453
    },
    "id": "Gb8h2ZR1GDLY",
    "outputId": "305fcf33-75c2-4cad-99a8-d23def62a73c",
    "tags": []
   },
   "outputs": [
    {
     "ename": "NameError",
     "evalue": "name 'bigrams_list_sorted' is not defined",
     "output_type": "error",
     "traceback": [
      "\u001b[0;31m---------------------------------------------------------------------------\u001b[0m",
      "\u001b[0;31mNameError\u001b[0m                                 Traceback (most recent call last)",
      "Cell \u001b[0;32mIn[6], line 4\u001b[0m\n\u001b[1;32m      1\u001b[0m \u001b[38;5;28;01mimport\u001b[39;00m \u001b[38;5;21;01mnumpy\u001b[39;00m \u001b[38;5;28;01mas\u001b[39;00m \u001b[38;5;21;01mnp\u001b[39;00m\n\u001b[1;32m      2\u001b[0m \u001b[38;5;28;01mimport\u001b[39;00m \u001b[38;5;21;01mmatplotlib\u001b[39;00m\u001b[38;5;21;01m.\u001b[39;00m\u001b[38;5;21;01mpyplot\u001b[39;00m \u001b[38;5;28;01mas\u001b[39;00m \u001b[38;5;21;01mplt\u001b[39;00m\n\u001b[0;32m----> 4\u001b[0m data_for_letters \u001b[38;5;241m=\u001b[39m np\u001b[38;5;241m.\u001b[39marray(\u001b[38;5;28mlist\u001b[39m(bigrams_list_sorted\u001b[38;5;241m.\u001b[39mitems())[:\u001b[38;5;241m15\u001b[39m])\n\u001b[1;32m      6\u001b[0m labels \u001b[38;5;241m=\u001b[39m np\u001b[38;5;241m.\u001b[39marray([])\n\u001b[1;32m      7\u001b[0m values \u001b[38;5;241m=\u001b[39m np\u001b[38;5;241m.\u001b[39marray([])\n",
      "\u001b[0;31mNameError\u001b[0m: name 'bigrams_list_sorted' is not defined"
     ]
    }
   ],
   "source": [
    "import numpy as np\n",
    "import matplotlib.pyplot as plt\n",
    "\n",
    "data_for_letters = np.array(list(bigrams_list_sorted.items())[:15])\n",
    "\n",
    "labels = np.array([])\n",
    "values = np.array([])\n",
    "\n",
    "for row in data_for_letters:\n",
    "  labels = np.append(labels, row[0])\n",
    "  values = np.append(values, int(row[1]))\n",
    "\n",
    "print(labels)\n",
    "plt.bar(labels, values)\n",
    "plt.title(\"Bigrams Frequency for Farsi based on Farsi Dictionary\")\n",
    "plt.show()"
   ]
  },
  {
   "cell_type": "markdown",
   "metadata": {
    "id": "AJGz9wLBGYls"
   },
   "source": [
    "# TRIGRAMS"
   ]
  },
  {
   "cell_type": "code",
   "execution_count": 42,
   "metadata": {
    "id": "xhQ8VzHiGcLx"
   },
   "outputs": [],
   "source": [
    "#TRIGRAMS\n",
    "\n",
    "TRIGRAMS = []\n",
    "TRIGRAMS_REPEATS = []\n",
    "\n",
    "for index, letter in enumerate(farsi_text):\n",
    "  if index < len(farsi_text)-2:\n",
    "    current_trigram = letter+farsi_text[index+1]+farsi_text[index+2]\n",
    "\n",
    "    if all(letter not in current_trigram for letter in [' ', '،', ':', '.', '\\u200c']):\n",
    "      if current_trigram in TRIGRAMS:\n",
    "        TRIGRAMS_index = TRIGRAMS.index(current_trigram)\n",
    "        TRIGRAMS_REPEATS[TRIGRAMS_index] = TRIGRAMS_REPEATS[TRIGRAMS_index]+1\n",
    "\n",
    "      else:\n",
    "        TRIGRAMS.append(current_trigram)\n",
    "        TRIGRAMS_REPEATS.append(1)\n",
    "\n",
    "\n",
    "TRIGRAMS_list = dict(zip(TRIGRAMS, TRIGRAMS_REPEATS))\n",
    "TRIGRAMS_list_sorted = dict(sorted(TRIGRAMS_list.items(), reverse=True, key=lambda item: item[1]))"
   ]
  },
  {
   "cell_type": "code",
   "execution_count": 43,
   "metadata": {
    "colab": {
     "base_uri": "https://localhost:8080/",
     "height": 509
    },
    "id": "L5jmUxr4Gm3I",
    "outputId": "9c011974-4447-4e17-be08-175ef0fba08d"
   },
   "outputs": [
    {
     "name": "stdout",
     "output_type": "stream",
     "text": [
      "[('ردن', 6832), ('کرد', 6158), ('شدن', 3449), ('دار', 2163), ('انه', 2035), ('مان', 1996), ('اری', 1992), ('کار', 1719), ('اند', 1703), ('نده', 1664), ('انی', 1561), ('است', 1462), ('وار', 1418), ('ران', 1404), ('خوا', 1384)]\n"
     ]
    },
    {
     "data": {
      "image/png": "[encoded data removed]",
      "text/plain": [
       "<Figure size 640x480 with 1 Axes>"
      ]
     },
     "metadata": {},
     "output_type": "display_data"
    }
   ],
   "source": [
    "data_for_letters = np.array(list(TRIGRAMS_list_sorted.items())[:15])\n",
    "\n",
    "labels = np.array([])\n",
    "values = np.array([])\n",
    "\n",
    "for row in data_for_letters:\n",
    "  labels = np.append(labels, row[0][::-1])\n",
    "  values = np.append(values, int(row[1]))\n",
    "\n",
    "plt.bar(labels, values)\n",
    "plt.xticks(rotation=45, ha='right')\n",
    "plt.title(\"Trigrams Frequency for Farsi based on Farsi Dictionary\")\n",
    "plt.show()"
   ]
  }
 ],
 "metadata": {
  "colab": {
   "provenance": []
  },
  "kernelspec": {
   "display_name": "Python 3 (ipykernel)",
   "language": "python",
   "name": "python3"
  },
  "language_info": {
   "codemirror_mode": {
    "name": "ipython",
    "version": 3
   },
   "file_extension": ".py",
   "mimetype": "text/x-python",
   "name": "python",
   "nbconvert_exporter": "python",
   "pygments_lexer": "ipython3",
   "version": "3.11.5"
  }
 },
 "nbformat": 4,
 "nbformat_minor": 4
}
